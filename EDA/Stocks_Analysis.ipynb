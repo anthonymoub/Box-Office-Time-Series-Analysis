{
 "cells": [
  {
   "cell_type": "code",
   "execution_count": 2,
   "metadata": {},
   "outputs": [],
   "source": [
    "import pandas as pd"
   ]
  },
  {
   "cell_type": "code",
   "execution_count": 10,
   "metadata": {},
   "outputs": [],
   "source": [
    "# Disney \n",
    "\n",
    "df_disney = pd.read_csv(\"/Users/anthonymoubarak/Desktop/Time_Series/Project/Data/Stocks/Disney.csv\")\n",
    "\n",
    "df_disney = df_disney[['Date' , 'Close']]\n",
    "df_disney = df_disney.rename(columns={'Close':'Close_Disney'})"
   ]
  },
  {
   "cell_type": "code",
   "execution_count": 11,
   "metadata": {},
   "outputs": [],
   "source": [
    "# Warner Brothers\n",
    "\n",
    "df_warner = pd.read_csv(\"/Users/anthonymoubarak/Desktop/Time_Series/Project/Data/Stocks/Warner_Brother.csv\")\n",
    "df_warner = df_warner[['Date' , 'Close']]\n",
    "df_warner = df_warner.rename(columns={'Close':'Close_WB'})"
   ]
  },
  {
   "cell_type": "code",
   "execution_count": 12,
   "metadata": {},
   "outputs": [],
   "source": [
    "# Paramount\n",
    "\n",
    "df_paramount = pd.read_csv(\"/Users/anthonymoubarak/Desktop/Time_Series/Project/Data/Stocks/Paramount.csv\")\n",
    "df_paramount = df_paramount[['Date' , 'Close']]\n",
    "df_paramount = df_paramount.rename(columns={'Close':'Close_Paramount'})"
   ]
  },
  {
   "cell_type": "code",
   "execution_count": 13,
   "metadata": {},
   "outputs": [],
   "source": [
    "# LionsGate\n",
    "\n",
    "df_lionsgate = pd.read_csv(\"/Users/anthonymoubarak/Desktop/Time_Series/Project/Data/Stocks/LionsGate.csv\")\n",
    "df_lionsgate = df_lionsgate[['Date' , 'Close']]\n",
    "df_lionsgate = df_lionsgate.rename(columns={'Close':'Close_Lionsgate'})"
   ]
  },
  {
   "cell_type": "code",
   "execution_count": 14,
   "metadata": {},
   "outputs": [],
   "source": [
    "# Netflix \n",
    "\n",
    "# LionsGate\n",
    "\n",
    "df_netflix = pd.read_csv(\"/Users/anthonymoubarak/Desktop/Time_Series/Project/Data/Stocks/NFLX.csv\")\n",
    "df_netflix = df_netflix[['Date' , 'Close']]\n",
    "df_netflix = df_netflix.rename(columns={'Close':'Close_Netflix'})"
   ]
  },
  {
   "cell_type": "code",
   "execution_count": 15,
   "metadata": {},
   "outputs": [
    {
     "data": {
      "text/html": [
       "<div>\n",
       "<style scoped>\n",
       "    .dataframe tbody tr th:only-of-type {\n",
       "        vertical-align: middle;\n",
       "    }\n",
       "\n",
       "    .dataframe tbody tr th {\n",
       "        vertical-align: top;\n",
       "    }\n",
       "\n",
       "    .dataframe thead th {\n",
       "        text-align: right;\n",
       "    }\n",
       "</style>\n",
       "<table border=\"1\" class=\"dataframe\">\n",
       "  <thead>\n",
       "    <tr style=\"text-align: right;\">\n",
       "      <th></th>\n",
       "      <th>Date</th>\n",
       "      <th>Close_Disney</th>\n",
       "      <th>Close_WB</th>\n",
       "      <th>Close_Paramount</th>\n",
       "      <th>Close_Lionsgate</th>\n",
       "      <th>Close_Netflix</th>\n",
       "    </tr>\n",
       "  </thead>\n",
       "  <tbody>\n",
       "    <tr>\n",
       "      <th>0</th>\n",
       "      <td>1985-12-02</td>\n",
       "      <td>2.001259</td>\n",
       "      <td>NaN</td>\n",
       "      <td>NaN</td>\n",
       "      <td>NaN</td>\n",
       "      <td>NaN</td>\n",
       "    </tr>\n",
       "    <tr>\n",
       "      <th>1</th>\n",
       "      <td>1985-12-03</td>\n",
       "      <td>1.996121</td>\n",
       "      <td>NaN</td>\n",
       "      <td>NaN</td>\n",
       "      <td>NaN</td>\n",
       "      <td>NaN</td>\n",
       "    </tr>\n",
       "    <tr>\n",
       "      <th>2</th>\n",
       "      <td>1985-12-04</td>\n",
       "      <td>2.086036</td>\n",
       "      <td>NaN</td>\n",
       "      <td>NaN</td>\n",
       "      <td>NaN</td>\n",
       "      <td>NaN</td>\n",
       "    </tr>\n",
       "    <tr>\n",
       "      <th>3</th>\n",
       "      <td>1985-12-05</td>\n",
       "      <td>2.098882</td>\n",
       "      <td>NaN</td>\n",
       "      <td>NaN</td>\n",
       "      <td>NaN</td>\n",
       "      <td>NaN</td>\n",
       "    </tr>\n",
       "    <tr>\n",
       "      <th>4</th>\n",
       "      <td>1985-12-06</td>\n",
       "      <td>2.096313</td>\n",
       "      <td>NaN</td>\n",
       "      <td>NaN</td>\n",
       "      <td>NaN</td>\n",
       "      <td>NaN</td>\n",
       "    </tr>\n",
       "  </tbody>\n",
       "</table>\n",
       "</div>"
      ],
      "text/plain": [
       "         Date  Close_Disney  Close_WB  Close_Paramount  Close_Lionsgate  \\\n",
       "0  1985-12-02      2.001259       NaN              NaN              NaN   \n",
       "1  1985-12-03      1.996121       NaN              NaN              NaN   \n",
       "2  1985-12-04      2.086036       NaN              NaN              NaN   \n",
       "3  1985-12-05      2.098882       NaN              NaN              NaN   \n",
       "4  1985-12-06      2.096313       NaN              NaN              NaN   \n",
       "\n",
       "   Close_Netflix  \n",
       "0            NaN  \n",
       "1            NaN  \n",
       "2            NaN  \n",
       "3            NaN  \n",
       "4            NaN  "
      ]
     },
     "execution_count": 15,
     "metadata": {},
     "output_type": "execute_result"
    }
   ],
   "source": [
    "# Combine all\n",
    "\n",
    "movie_stocks = pd.merge(pd.merge(pd.merge(pd.merge(df_disney, df_warner, on = 'Date' , how = 'left') ,\n",
    "        df_paramount , on = 'Date' , how = 'left'),\n",
    "        df_lionsgate, on = 'Date' , how = 'left'),\n",
    "        df_netflix, on = 'Date' , how = 'left')\n",
    "\n",
    "movie_stocks.head()"
   ]
  },
  {
   "cell_type": "code",
   "execution_count": 20,
   "metadata": {},
   "outputs": [],
   "source": [
    "movie_stocks = movie_stocks.rename(columns= {'Close_Disney':'Disney' , \n",
    "                                             'Close_WB':'WB',\n",
    "                                             'Close_Paramount':'Paramount',\n",
    "                                             'Close_Lionsgate':'Lionsgate',\n",
    "                                             'Close_Netflix':'Netflix'})"
   ]
  },
  {
   "cell_type": "code",
   "execution_count": 21,
   "metadata": {},
   "outputs": [],
   "source": [
    "movie_stocks.to_csv(\"movie_studio_stocks.csv\")"
   ]
  },
  {
   "cell_type": "code",
   "execution_count": 23,
   "metadata": {},
   "outputs": [
    {
     "data": {
      "text/plain": [
       "0        NaN\n",
       "1        NaN\n",
       "2        NaN\n",
       "3        NaN\n",
       "4        NaN\n",
       "        ... \n",
       "9531    8.42\n",
       "9532    8.49\n",
       "9533    8.48\n",
       "9534    8.13\n",
       "9535    7.80\n",
       "Name: Lionsgate, Length: 9536, dtype: float64"
      ]
     },
     "execution_count": 23,
     "metadata": {},
     "output_type": "execute_result"
    }
   ],
   "source": [
    "movie_stocks['Lionsgate']"
   ]
  },
  {
   "cell_type": "code",
   "execution_count": 25,
   "metadata": {},
   "outputs": [
    {
     "data": {
      "text/plain": [
       "Index(['Date', 'Disney', 'WB', 'Paramount', 'Lionsgate', 'Netflix'], dtype='object')"
      ]
     },
     "execution_count": 25,
     "metadata": {},
     "output_type": "execute_result"
    }
   ],
   "source": [
    "movie_stocks.columns"
   ]
  },
  {
   "cell_type": "code",
   "execution_count": 26,
   "metadata": {},
   "outputs": [],
   "source": [
    "# List of columns to normalize, excluding 'Date'\n",
    "cols_to_normalize = ['Disney', 'WB', 'Paramount', 'Lionsgate', 'Netflix']\n",
    "\n",
    "# Normalizing the columns\n",
    "for col in cols_to_normalize:\n",
    "    movie_stocks[col] = (movie_stocks[col] - movie_stocks[col].min()) / (movie_stocks[col].max() - movie_stocks[col].min())\n",
    "\n"
   ]
  },
  {
   "cell_type": "code",
   "execution_count": 28,
   "metadata": {},
   "outputs": [],
   "source": [
    "movie_stocks.to_csv(\"movie_stocks_normalized.csv\")"
   ]
  },
  {
   "cell_type": "code",
   "execution_count": 35,
   "metadata": {},
   "outputs": [],
   "source": [
    "average_price = pd.DataFrame({\n",
    "    'Disney': [df_disney['Close_Disney'].mean()],\n",
    "    'Warner': [df_warner['Close_WB'].mean()],\n",
    "    'Paramount': [df_paramount['Close_Paramount'].mean()],\n",
    "    'Lionsgate': [df_lionsgate['Close_Lionsgate'].mean()],\n",
    "    'Netflix': [df_netflix['Close_Netflix'].mean()]\n",
    "})\n",
    "\n",
    "average_price.to_csv(\"average_stock_prices.csv\")"
   ]
  },
  {
   "cell_type": "code",
   "execution_count": 36,
   "metadata": {},
   "outputs": [
    {
     "data": {
      "text/html": [
       "<div>\n",
       "<style scoped>\n",
       "    .dataframe tbody tr th:only-of-type {\n",
       "        vertical-align: middle;\n",
       "    }\n",
       "\n",
       "    .dataframe tbody tr th {\n",
       "        vertical-align: top;\n",
       "    }\n",
       "\n",
       "    .dataframe thead th {\n",
       "        text-align: right;\n",
       "    }\n",
       "</style>\n",
       "<table border=\"1\" class=\"dataframe\">\n",
       "  <thead>\n",
       "    <tr style=\"text-align: right;\">\n",
       "      <th></th>\n",
       "      <th>Disney</th>\n",
       "      <th>Warner</th>\n",
       "      <th>Paramount</th>\n",
       "      <th>Lionsgate</th>\n",
       "      <th>Netflix</th>\n",
       "    </tr>\n",
       "  </thead>\n",
       "  <tbody>\n",
       "    <tr>\n",
       "      <th>0</th>\n",
       "      <td>47.05581</td>\n",
       "      <td>23.078088</td>\n",
       "      <td>36.419246</td>\n",
       "      <td>12.682516</td>\n",
       "      <td>131.954171</td>\n",
       "    </tr>\n",
       "  </tbody>\n",
       "</table>\n",
       "</div>"
      ],
      "text/plain": [
       "     Disney     Warner  Paramount  Lionsgate     Netflix\n",
       "0  47.05581  23.078088  36.419246  12.682516  131.954171"
      ]
     },
     "execution_count": 36,
     "metadata": {},
     "output_type": "execute_result"
    }
   ],
   "source": [
    "average_price"
   ]
  },
  {
   "cell_type": "code",
   "execution_count": null,
   "metadata": {},
   "outputs": [],
   "source": []
  }
 ],
 "metadata": {
  "kernelspec": {
   "display_name": "anly503",
   "language": "python",
   "name": "python3"
  },
  "language_info": {
   "codemirror_mode": {
    "name": "ipython",
    "version": 3
   },
   "file_extension": ".py",
   "mimetype": "text/x-python",
   "name": "python",
   "nbconvert_exporter": "python",
   "pygments_lexer": "ipython3",
   "version": "3.10.8"
  },
  "orig_nbformat": 4
 },
 "nbformat": 4,
 "nbformat_minor": 2
}
